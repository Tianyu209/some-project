{
  "nbformat": 4,
  "nbformat_minor": 0,
  "metadata": {
    "colab": {
      "provenance": [],
      "gpuType": "T4"
    },
    "kernelspec": {
      "name": "python3",
      "display_name": "Python 3"
    },
    "language_info": {
      "name": "python"
    },
    "accelerator": "GPU"
  },
  "cells": [
    {
      "cell_type": "code",
      "execution_count": 1,
      "metadata": {
        "colab": {
          "base_uri": "https://localhost:8080/"
        },
        "id": "81H-Au9S0vZd",
        "outputId": "08eac959-7298-4ce7-c5c0-205ef2ae8ec2"
      },
      "outputs": [
        {
          "output_type": "stream",
          "name": "stdout",
          "text": [
            "[PhysicalDevice(name='/physical_device:CPU:0', device_type='CPU'),\n",
            " PhysicalDevice(name='/physical_device:GPU:0', device_type='GPU')]\n"
          ]
        }
      ],
      "source": [
        "import tensorflow as tf # Import tensorflow library\n",
        "import pprint           # Import pprint library for better print format\n",
        "\n",
        "device_name = tf.config.list_physical_devices()\n",
        "pprint.pprint(device_name)"
      ]
    },
    {
      "cell_type": "code",
      "source": [
        "import numpy as np                                                     # Import numpy library\n",
        "import matplotlib.pyplot as plt                                        # Import mathplot library\n",
        "import datetime                                                        # Import datetime library\n",
        "from pprint import pprint                                              # Import pprint library\n",
        "from keras.datasets import mnist                                       # Import MNIST dataset\n",
        "from keras.models import Sequential                                    # Import Sequential class\n",
        "from keras.layers import Conv2D, MaxPooling2D, Dense, Dropout, Flatten # Import Conv2D, MaxPooling2D, Dense, Dropout, Flatten class\n",
        "from keras.utils import to_categorical                                 # Import to categorical utilities\n",
        "\n",
        "batch_size = 128             # Number of samples per gradient update\n",
        "num_classes = 10             # Number of classes in the dataset\n",
        "epochs = 10                  # Number of epochs to train the model\n",
        "img_rows, img_cols = 28, 28  # Image dimensions"
      ],
      "metadata": {
        "id": "nlkXj4l30xqK"
      },
      "execution_count": 2,
      "outputs": []
    },
    {
      "cell_type": "code",
      "source": [
        "(x_train, y_train), (x_test, y_test) = mnist.load_data() # Load MNIST dataset from Keras\n",
        "print('Shape of train set: {}, Shape of test set: {}'.format(x_train.shape, x_test.shape))"
      ],
      "metadata": {
        "colab": {
          "base_uri": "https://localhost:8080/"
        },
        "id": "2JJsdw3j0zti",
        "outputId": "82edaa8b-cecd-4a40-9a5a-9de220ac9c2c"
      },
      "execution_count": 3,
      "outputs": [
        {
          "output_type": "stream",
          "name": "stdout",
          "text": [
            "Downloading data from https://storage.googleapis.com/tensorflow/tf-keras-datasets/mnist.npz\n",
            "11490434/11490434 [==============================] - 1s 0us/step\n",
            "Shape of train set: (60000, 28, 28), Shape of test set: (10000, 28, 28)\n"
          ]
        }
      ]
    },
    {
      "cell_type": "code",
      "source": [
        "plt.figure(figsize=(9,3))\n",
        "for i in range(3):\n",
        "  plt.subplot(1, 3, i+1)\n",
        "  plt.imshow(x_train[i], cmap='gray')         # Show the first three images in train set\n",
        "  plt.axis('off')                             # Turn the axis off\n",
        "plt.show()                                    # Display the figure window"
      ],
      "metadata": {
        "colab": {
          "base_uri": "https://localhost:8080/",
          "height": 242
        },
        "id": "EusvFo3R0126",
        "outputId": "fb301efa-3074-414a-ca9b-86c2e92291e3"
      },
      "execution_count": 4,
      "outputs": [
        {
          "output_type": "display_data",
          "data": {
            "text/plain": [
              "<Figure size 900x300 with 3 Axes>"
            ],
            "image/png": "[encoded data removed]"
          },
          "metadata": {}
        }
      ]
    },
    {
      "cell_type": "code",
      "source": [
        "# Reshape the data to 4-dimension. The last dimension represent the number of channels.\n",
        "x_train = x_train.reshape(60000, 28, 28, 1)\n",
        "x_test = x_test.reshape(10000, 28, 28, 1)\n",
        "\n",
        "# There are 10 classes and classes are represented as unique integers(0 to 9).\n",
        "# To do so, transforming the integer into a 10 element binary vector.\n",
        "# eg. [2] -> [0, 0, 1, 0, 0, 0, 0, 0, 0, 0]\n",
        "y_train = to_categorical(y_train, num_classes)  # Shape from (60000,) -> (60000, 10)\n",
        "y_test = to_categorical(y_test, num_classes)    # Shape from (10000,) -> (10000, 10)"
      ],
      "metadata": {
        "id": "2yuubP8y04dU"
      },
      "execution_count": 5,
      "outputs": []
    },
    {
      "cell_type": "code",
      "source": [
        "# Create the model\n",
        "# Method 1\n",
        "model = Sequential()  # Create a Sequential object\n",
        "# ----- Convolutional Layer -----\n",
        "model.add(Conv2D(filters=32, kernel_size=(3, 3), activation='relu', input_shape=(28, 28, 1)))\n",
        "model.add(Conv2D(filters=64, kernel_size=(3, 3), activation='relu'))\n",
        "model.add(MaxPooling2D(pool_size=(2, 2)))\n",
        "model.add(Dropout(0.1))\n",
        "# -------------------------------\n",
        "model.add(Flatten())  # Flatten operation. Shape from (B, H, W, C) -> (B, H*W*C)\n",
        "# ---------- FC Layer -----------\n",
        "model.add(Dense(units=128, activation='relu'))\n",
        "model.add(Dense(units=10, activation='softmax'))\n",
        "\n",
        "\n",
        "# Method 2\n",
        "model2 = Sequential(\n",
        "    [Conv2D(filters=32, kernel_size=(3, 3), activation='relu', input_shape=(28, 28, 1)),  # Add a convolutional layer with 32 kernels, each of size 3x3\n",
        "    Conv2D(filters=64, kernel_size=(3, 3), activation='relu'),                            # Add another convolutional layer with 64 kernels, each of size 3x3\n",
        "    MaxPooling2D(pool_size=(2, 2)),                                                       # Add a max pooling layer of size 2x2\n",
        "    Dropout(0.1),                                                                         # Add a dropout layer to prevent a model from overfitting\n",
        "    Flatten(),                                                                            # Add a flatten layer to convert the pooled data to a single column\n",
        "    Dense(units=128, activation='relu'),                                                  # Add a dense layer (fully-connected layer) and use ReLU activation function\n",
        "    Dense(units=10, activation='softmax')]                                                # Add a dense layer (fully-connected layer) and use Softmax activation function\n",
        ")"
      ],
      "metadata": {
        "id": "8BFwAM2F05CT"
      },
      "execution_count": 6,
      "outputs": []
    },
    {
      "cell_type": "code",
      "source": [
        "model.summary()"
      ],
      "metadata": {
        "colab": {
          "base_uri": "https://localhost:8080/"
        },
        "id": "mLJrKLAT1Ax2",
        "outputId": "45ee3a11-1762-4bb1-fad3-e2a00b52da8e"
      },
      "execution_count": 7,
      "outputs": [
        {
          "output_type": "stream",
          "name": "stdout",
          "text": [
            "Model: \"sequential\"\n",
            "_________________________________________________________________\n",
            " Layer (type)                Output Shape              Param #   \n",
            "=================================================================\n",
            " conv2d (Conv2D)             (None, 26, 26, 32)        320       \n",
            "                                                                 \n",
            " conv2d_1 (Conv2D)           (None, 24, 24, 64)        18496     \n",
            "                                                                 \n",
            " max_pooling2d (MaxPooling2  (None, 12, 12, 64)        0         \n",
            " D)                                                              \n",
            "                                                                 \n",
            " dropout (Dropout)           (None, 12, 12, 64)        0         \n",
            "                                                                 \n",
            " flatten (Flatten)           (None, 9216)              0         \n",
            "                                                                 \n",
            " dense (Dense)               (None, 128)               1179776   \n",
            "                                                                 \n",
            " dense_1 (Dense)             (None, 10)                1290      \n",
            "                                                                 \n",
            "=================================================================\n",
            "Total params: 1199882 (4.58 MB)\n",
            "Trainable params: 1199882 (4.58 MB)\n",
            "Non-trainable params: 0 (0.00 Byte)\n",
            "_________________________________________________________________\n"
          ]
        }
      ]
    },
    {
      "cell_type": "code",
      "source": [
        "model.compile(optimizer='adam', loss='categorical_crossentropy', metrics=['accuracy'])"
      ],
      "metadata": {
        "id": "BWmI-cRy1CyW"
      },
      "execution_count": 8,
      "outputs": []
    },
    {
      "cell_type": "code",
      "source": [
        "training_history = model.fit(x_train, y_train,\n",
        "                             batch_size=batch_size,\n",
        "                             epochs=epochs,\n",
        "                             validation_data=(x_test, y_test))"
      ],
      "metadata": {
        "colab": {
          "base_uri": "https://localhost:8080/"
        },
        "id": "qjUWJ-hh1EIe",
        "outputId": "ea7e10d8-e881-4405-e21c-2a41c4801e43"
      },
      "execution_count": 9,
      "outputs": [
        {
          "output_type": "stream",
          "name": "stdout",
          "text": [
            "Epoch 1/10\n",
            "469/469 [==============================] - 21s 16ms/step - loss: 0.8187 - accuracy: 0.9383 - val_loss: 0.0615 - val_accuracy: 0.9796\n",
            "Epoch 2/10\n",
            "469/469 [==============================] - 5s 10ms/step - loss: 0.0483 - accuracy: 0.9857 - val_loss: 0.0563 - val_accuracy: 0.9839\n",
            "Epoch 3/10\n",
            "469/469 [==============================] - 4s 9ms/step - loss: 0.0305 - accuracy: 0.9898 - val_loss: 0.0509 - val_accuracy: 0.9840\n",
            "Epoch 4/10\n",
            "469/469 [==============================] - 5s 10ms/step - loss: 0.0232 - accuracy: 0.9925 - val_loss: 0.0561 - val_accuracy: 0.9855\n",
            "Epoch 5/10\n",
            "469/469 [==============================] - 4s 9ms/step - loss: 0.0190 - accuracy: 0.9933 - val_loss: 0.0563 - val_accuracy: 0.9855\n",
            "Epoch 6/10\n",
            "469/469 [==============================] - 4s 9ms/step - loss: 0.0156 - accuracy: 0.9952 - val_loss: 0.0634 - val_accuracy: 0.9847\n",
            "Epoch 7/10\n",
            "469/469 [==============================] - 5s 10ms/step - loss: 0.0138 - accuracy: 0.9955 - val_loss: 0.0575 - val_accuracy: 0.9856\n",
            "Epoch 8/10\n",
            "469/469 [==============================] - 4s 9ms/step - loss: 0.0141 - accuracy: 0.9954 - val_loss: 0.0574 - val_accuracy: 0.9869\n",
            "Epoch 9/10\n",
            "469/469 [==============================] - 4s 9ms/step - loss: 0.0131 - accuracy: 0.9956 - val_loss: 0.0598 - val_accuracy: 0.9876\n",
            "Epoch 10/10\n",
            "469/469 [==============================] - 5s 10ms/step - loss: 0.0126 - accuracy: 0.9959 - val_loss: 0.0739 - val_accuracy: 0.9851\n"
          ]
        }
      ]
    },
    {
      "cell_type": "code",
      "source": [
        "# Visualize the Loss and Accuracy from training_history\n",
        "plt.figure(figsize=(10,5))\n",
        "\n",
        "plt.subplot(1, 2, 1)\n",
        "plt.plot(training_history.history['loss'])          # Plot the training loss\n",
        "plt.plot(training_history.history['val_loss'])      # Plot the validation loss\n",
        "plt.title('Loss')                               # Set the title\n",
        "plt.xlabel('epoch')                             # Set the label of x axis\n",
        "plt.ylabel('loss')                              # Set the label of y axis\n",
        "plt.legend(['train', 'test'])                       # Set the legend\n",
        "\n",
        "plt.subplot(1, 2, 2)\n",
        "plt.plot(training_history.history['accuracy'])      # Plot the training accuracy\n",
        "plt.plot(training_history.history['val_accuracy'])  # Plot the validation accuracy\n",
        "plt.title('Accuracy')                           # Set the title\n",
        "plt.xlabel('epoch')                             # Set the label of x axis\n",
        "plt.ylabel('accuracy')                          # Set the label of y axis\n",
        "plt.legend(['train', 'test'])                       # Set the legend\n",
        "\n",
        "plt.show()                                         # Display the figure window"
      ],
      "metadata": {
        "colab": {
          "base_uri": "https://localhost:8080/",
          "height": 487
        },
        "id": "8kovWYOL1Fog",
        "outputId": "8438ba1a-0dea-4fda-cbd6-4d784fbf5221"
      },
      "execution_count": 10,
      "outputs": [
        {
          "output_type": "display_data",
          "data": {
            "text/plain": [
              "<Figure size 1000x500 with 2 Axes>"
            ],
            "image/png": "[encoded data removed]"
          },
          "metadata": {}
        }
      ]
    },
    {
      "cell_type": "code",
      "source": [
        "val_loss, val_acc = model.evaluate(x_test, y_test, verbose=0)  # verbose=0 means no progress bar\n",
        "print('Validation loss: {}'.format(val_loss))\n",
        "print('Validation accuracy: {}'.format(val_acc))"
      ],
      "metadata": {
        "colab": {
          "base_uri": "https://localhost:8080/"
        },
        "id": "BvWBwN3t1IZ4",
        "outputId": "bb122902-805e-4b34-e66a-723dd4a0aff1"
      },
      "execution_count": 11,
      "outputs": [
        {
          "output_type": "stream",
          "name": "stdout",
          "text": [
            "Validation loss: 0.07393819838762283\n",
            "Validation accuracy: 0.9850999712944031\n"
          ]
        }
      ]
    },
    {
      "cell_type": "code",
      "source": [
        "# Save the mdoel to an HDFS file\n",
        "model_name = 'my_model.h5'                # define model name\n",
        "model.save(model_name, save_format='h5')  # save the model"
      ],
      "metadata": {
        "colab": {
          "base_uri": "https://localhost:8080/"
        },
        "id": "l25VcEcV1J14",
        "outputId": "8aa246e3-ee74-4ffd-e6c4-6b79aaf77c9f"
      },
      "execution_count": 12,
      "outputs": [
        {
          "output_type": "stream",
          "name": "stderr",
          "text": [
            "/usr/local/lib/python3.10/dist-packages/keras/src/engine/training.py:3103: UserWarning: You are saving your model as an HDF5 file via `model.save()`. This file format is considered legacy. We recommend using instead the native Keras format, e.g. `model.save('my_model.keras')`.\n",
            "  saving_api.save_model(\n"
          ]
        }
      ]
    }
  ]
}
{
  "nbformat": 4,
  "nbformat_minor": 0,
  "metadata": {
    "colab": {
      "provenance": []
    },
    "kernelspec": {
      "name": "python3",
      "display_name": "Python 3"
    },
    "language_info": {
      "name": "python"
    }
  },
  "cells": [
    {
      "cell_type": "code",
      "execution_count": null,
      "metadata": {
        "id": "NIYyMEM6y5uR"
      },
      "outputs": [],
      "source": [
        "from google.colab import drive\n",
        "drive.mount(\"/content/drive\")"
      ]
    },
    {
      "cell_type": "code",
      "source": [
        "%cd \"/content/drive/MyDrive/lab2\"\n",
        "%ls"
      ],
      "metadata": {
        "id": "oDG3xNQPy6O1"
      },
      "execution_count": null,
      "outputs": []
    },
    {
      "cell_type": "code",
      "source": [
        "import numpy as np\n",
        "train_dataset = np.load(\"train_dataset.npy\")\n",
        "test_dataset = np.load(\"test_dataset.npy\")\n",
        "train_labels = np.load(\"train_labels.npy\")\n",
        "test_labels = np.load(\"test_labels.npy\")"
      ],
      "metadata": {
        "id": "rINuyO-ny7UE"
      },
      "execution_count": null,
      "outputs": []
    },
    {
      "cell_type": "code",
      "source": [
        "class NaiveBayesClassifier:\n",
        "  def __init__(self):\n",
        "    self.train_dataset = None\n",
        "    self.train_labels = None\n",
        "    self.train_size = 0\n",
        "    self.num_features = 0\n",
        "    self.num_classes = 0\n",
        "    self.num_feature_categories = 0\n",
        "\n",
        "  def fit(self, train_dataset, train_labels):\n",
        "    self.train_dataset = train_dataset\n",
        "    self.train_labels = train_labels\n",
        "    self.train_size = train_dataset.shape[0]\n",
        "    self.num_features = train_dataset.shape[1]\n",
        "    self.num_classes = np.amax(train_labels) + 1\n",
        "    self.num_feature_categories = np.amax(train_dataset, axis=0) + 1\n",
        "\n",
        "  def estimate_class_prior(self):\n",
        "    deltas = (np.arange(self.num_classes) == self.train_labels.reshape(-1, 1))\n",
        "    class_count = np.sum(deltas, axis=0)\n",
        "    class_prior = (class_count + 1) / (np.sum(class_count) + self.num_classes)\n",
        "    return class_prior\n",
        "\n",
        "  def estimate_likelihoods(self):\n",
        "    deltas = (np.arange(self.num_classes) == self.train_labels.reshape(-1, 1))\n",
        "    class_count = np.sum(deltas.astype(int), axis=0)\n",
        "    likelihoods = []\n",
        "    for feature in np.arange(self.num_features):\n",
        "      feature_deltas = (np.arange(self.num_feature_categories[feature]) == self.train_dataset[:, feature].reshape(-1,1))\n",
        "      feature_count = np.dot(feature_deltas.transpose(), deltas.astype(int))\n",
        "      feature_likelihood = (feature_count + 1) / (np.sum(deltas.astype(int), axis=0) + self.num_feature_categories[feature])\n",
        "      likelihoods.append(feature_likelihood)\n",
        "    return likelihoods\n",
        "\n",
        "  def predict(self, test_dataset):\n",
        "    test_size = test_dataset.shape[0]\n",
        "    class_prior = self.estimate_class_prior()\n",
        "    likelihoods = self.estimate_likelihoods()\n",
        "    class_prob = np.tile(np.log(class_prior), (test_size, 1))\n",
        "    for feature in np.arange(self.num_features):\n",
        "      feature_likelihood = likelihoods[feature]\n",
        "      feature_deltas = (np.arange(self.num_feature_categories[feature]) == test_dataset[:, feature].reshape(-1,1))\n",
        "      category_prob = np.matmul(feature_deltas, feature_likelihood)\n",
        "      class_prob += np.log(category_prob)\n",
        "    test_predict = np.argmax(class_prob, axis=1)\n",
        "    return test_predict"
      ],
      "metadata": {
        "id": "74Bd4Rp1y8j0"
      },
      "execution_count": null,
      "outputs": []
    },
    {
      "cell_type": "code",
      "source": [
        "import numpy as np\n",
        "np.arange(10) ==[[1],[0],[6],[4]]"
      ],
      "metadata": {
        "id": "u54zoLZNy-NV"
      },
      "execution_count": null,
      "outputs": []
    },
    {
      "cell_type": "code",
      "source": [
        "if __name__ == '__main__':\n",
        "  train_dataset = np.load(\"train_dataset.npy\")\n",
        "  test_dataset = np.load(\"test_dataset.npy\")\n",
        "  train_labels = np.load(\"train_labels.npy\")\n",
        "  test_labels = np.load(\"test_labels.npy\")\n",
        "  nb_model = NaiveBayesClassifier()\n",
        "  nb_model.fit(train_dataset, train_labels)\n",
        "  print(f\"After fitting the training data, the train size is\\\n",
        "  {nb_model.train_size}, the number of features is {nb_model.num_features},\\\n",
        "  the number of class labels is {nb_model.num_classes}.\")\n",
        "  class_prior = nb_model.estimate_class_prior()\n",
        "  print(f\"The class priors are {class_prior}.\")\n",
        "  likelihoods = nb_model.estimate_likelihoods()\n",
        "  print(f\"The likelihoods of the first feature (Age) are \\n {likelihoods[0]}.\")\n",
        "  test_predict = nb_model.predict(test_dataset)\n",
        "  print(f\"The predictions for test data are:\\n {test_predict}\")\n",
        "\n",
        "\n",
        "  accuracy_score = np.sum(test_predict == test_labels) / test_labels.shape[0]\n",
        "\n",
        "  print(accuracy_score)"
      ],
      "metadata": {
        "id": "bBqG5m3Ey_Rm"
      },
      "execution_count": null,
      "outputs": []
    },
    {
      "cell_type": "code",
      "source": [],
      "metadata": {
        "id": "_V3GnZz_zAT1"
      },
      "execution_count": null,
      "outputs": []
    }
  ]
}
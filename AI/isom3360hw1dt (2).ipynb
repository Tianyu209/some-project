{
 "cells": [
  {
   "cell_type": "code",
   "execution_count": 1,
   "id": "b5d44cf7",
   "metadata": {
    "_cell_guid": "b1076dfc-b9ad-4769-8c92-a6c4dae69d19",
    "_uuid": "8f2839f25d086af736a60e9eeb907d3b93b6e0e5",
    "execution": {
     "iopub.execute_input": "2024-03-09T09:03:07.852010Z",
     "iopub.status.busy": "2024-03-09T09:03:07.851272Z",
     "iopub.status.idle": "2024-03-09T09:03:08.799565Z",
     "shell.execute_reply": "2024-03-09T09:03:08.798398Z"
    },
    "papermill": {
     "duration": 0.96038,
     "end_time": "2024-03-09T09:03:08.802278",
     "exception": false,
     "start_time": "2024-03-09T09:03:07.841898",
     "status": "completed"
    },
    "tags": []
   },
   "outputs": [
    {
     "name": "stdout",
     "output_type": "stream",
     "text": [
      "/kaggle/input/titanic/train.csv\n",
      "/kaggle/input/titanic/test.csv\n",
      "/kaggle/input/titanic/gender_submission.csv\n"
     ]
    }
   ],
   "source": [
    "# This Python 3 environment comes with many helpful analytics libraries installed\n",
    "# It is defined by the kaggle/python Docker image: https://github.com/kaggle/docker-python\n",
    "# For example, here's several helpful packages to load\n",
    "\n",
    "import numpy as np # linear algebra\n",
    "import pandas as pd # data processing, CSV file I/O (e.g. pd.read_csv)\n",
    "\n",
    "# Input data files are available in the read-only \"../input/\" directory\n",
    "# For example, running this (by clicking run or pressing Shift+Enter) will list all files under the input directory\n",
    "\n",
    "import os\n",
    "for dirname, _, filenames in os.walk('/kaggle/input'):\n",
    "    for filename in filenames:\n",
    "        print(os.path.join(dirname, filename))\n",
    "\n",
    "# You can write up to 20GB to the current directory (/kaggle/working/) that gets preserved as output when you create a version using \"Save & Run All\" \n",
    "# You can also write temporary files to /kaggle/temp/, but they won't be saved outside of the current session"
   ]
  },
  {
   "cell_type": "code",
   "execution_count": 2,
   "id": "59d2067a",
   "metadata": {
    "execution": {
     "iopub.execute_input": "2024-03-09T09:03:08.818919Z",
     "iopub.status.busy": "2024-03-09T09:03:08.818379Z",
     "iopub.status.idle": "2024-03-09T09:03:08.852372Z",
     "shell.execute_reply": "2024-03-09T09:03:08.851269Z"
    },
    "papermill": {
     "duration": 0.045092,
     "end_time": "2024-03-09T09:03:08.854790",
     "exception": false,
     "start_time": "2024-03-09T09:03:08.809698",
     "status": "completed"
    },
    "tags": []
   },
   "outputs": [],
   "source": [
    "# load the file\n",
    "train = pd.read_csv(\"/kaggle/input/titanic/train.csv\")\n",
    "test = pd.read_csv(\"/kaggle/input/titanic/test.csv\")\n",
    "gender = pd.read_csv(\"/kaggle/input/titanic/gender_submission.csv\")"
   ]
  },
  {
   "cell_type": "code",
   "execution_count": 3,
   "id": "7a470c0e",
   "metadata": {
    "execution": {
     "iopub.execute_input": "2024-03-09T09:03:08.870659Z",
     "iopub.status.busy": "2024-03-09T09:03:08.870055Z",
     "iopub.status.idle": "2024-03-09T09:03:08.875212Z",
     "shell.execute_reply": "2024-03-09T09:03:08.874392Z"
    },
    "papermill": {
     "duration": 0.015317,
     "end_time": "2024-03-09T09:03:08.877296",
     "exception": false,
     "start_time": "2024-03-09T09:03:08.861979",
     "status": "completed"
    },
    "tags": []
   },
   "outputs": [],
   "source": [
    "# make a copy\n",
    "traincp = train.copy()\n",
    "testcp = test.copy()"
   ]
  },
  {
   "cell_type": "code",
   "execution_count": 4,
   "id": "5992c1db",
   "metadata": {
    "execution": {
     "iopub.execute_input": "2024-03-09T09:03:08.893948Z",
     "iopub.status.busy": "2024-03-09T09:03:08.893066Z",
     "iopub.status.idle": "2024-03-09T09:03:08.905665Z",
     "shell.execute_reply": "2024-03-09T09:03:08.904538Z"
    },
    "papermill": {
     "duration": 0.023716,
     "end_time": "2024-03-09T09:03:08.908122",
     "exception": false,
     "start_time": "2024-03-09T09:03:08.884406",
     "status": "completed"
    },
    "tags": []
   },
   "outputs": [],
   "source": [
    "# fill in missing Age with mean\n",
    "traincp=traincp.fillna(value=traincp[\"Age\"].mean())\n",
    "testcp=testcp.fillna(value=testcp[\"Age\"].mean())"
   ]
  },
  {
   "cell_type": "code",
   "execution_count": 5,
   "id": "20d7c43c",
   "metadata": {
    "execution": {
     "iopub.execute_input": "2024-03-09T09:03:08.924349Z",
     "iopub.status.busy": "2024-03-09T09:03:08.923966Z",
     "iopub.status.idle": "2024-03-09T09:03:08.936094Z",
     "shell.execute_reply": "2024-03-09T09:03:08.934879Z"
    },
    "papermill": {
     "duration": 0.023124,
     "end_time": "2024-03-09T09:03:08.938417",
     "exception": false,
     "start_time": "2024-03-09T09:03:08.915293",
     "status": "completed"
    },
    "tags": []
   },
   "outputs": [],
   "source": [
    "# drop cabin\n",
    "traincp=traincp.drop(columns=[\"Cabin\"])\n",
    "testcp=testcp.drop(columns=[\"Cabin\"])"
   ]
  },
  {
   "cell_type": "code",
   "execution_count": 6,
   "id": "d9050097",
   "metadata": {
    "execution": {
     "iopub.execute_input": "2024-03-09T09:03:08.954461Z",
     "iopub.status.busy": "2024-03-09T09:03:08.954064Z",
     "iopub.status.idle": "2024-03-09T09:03:08.972188Z",
     "shell.execute_reply": "2024-03-09T09:03:08.970631Z"
    },
    "papermill": {
     "duration": 0.029076,
     "end_time": "2024-03-09T09:03:08.974618",
     "exception": false,
     "start_time": "2024-03-09T09:03:08.945542",
     "status": "completed"
    },
    "tags": []
   },
   "outputs": [
    {
     "name": "stdout",
     "output_type": "stream",
     "text": [
      "Empty DataFrame\n",
      "Columns: [PassengerId, Pclass, Name, Sex, Age, SibSp, Parch, Ticket, Fare, Embarked]\n",
      "Index: []\n",
      "Empty DataFrame\n",
      "Columns: [PassengerId, Survived, Pclass, Name, Sex, Age, SibSp, Parch, Ticket, Fare, Embarked]\n",
      "Index: []\n"
     ]
    }
   ],
   "source": [
    "# replace missing value for \"Embarked\" in train data with mode\n",
    "traincp['Embarked'] = traincp['Embarked'].fillna(traincp['Embarked'].mode())\n",
    "testcp['Embarked'] = testcp['Embarked'].fillna(testcp['Embarked'].mode())\n",
    "print(testcp[testcp['Embarked'].isnull()])\n",
    "print(traincp[traincp['Embarked'].isnull()])\n",
    "#check the example"
   ]
  },
  {
   "cell_type": "code",
   "execution_count": 7,
   "id": "22fec910",
   "metadata": {
    "execution": {
     "iopub.execute_input": "2024-03-09T09:03:08.991360Z",
     "iopub.status.busy": "2024-03-09T09:03:08.990795Z",
     "iopub.status.idle": "2024-03-09T09:03:09.011604Z",
     "shell.execute_reply": "2024-03-09T09:03:09.010557Z"
    },
    "papermill": {
     "duration": 0.032203,
     "end_time": "2024-03-09T09:03:09.014210",
     "exception": false,
     "start_time": "2024-03-09T09:03:08.982007",
     "status": "completed"
    },
    "tags": []
   },
   "outputs": [],
   "source": [
    "#mapping catagorical features to numerical value\n",
    "traincp['Survived'].value_counts(normalize=True)\n",
    "traincp =pd.get_dummies(traincp, columns=['Sex', 'Embarked'],drop_first = True)\n",
    "testcp =pd.get_dummies(testcp, columns=['Sex', 'Embarked'],drop_first = True)\n"
   ]
  },
  {
   "cell_type": "code",
   "execution_count": 8,
   "id": "2ff98ea8",
   "metadata": {
    "execution": {
     "iopub.execute_input": "2024-03-09T09:03:09.031316Z",
     "iopub.status.busy": "2024-03-09T09:03:09.030959Z",
     "iopub.status.idle": "2024-03-09T09:03:10.362035Z",
     "shell.execute_reply": "2024-03-09T09:03:10.361076Z"
    },
    "papermill": {
     "duration": 1.342099,
     "end_time": "2024-03-09T09:03:10.364482",
     "exception": false,
     "start_time": "2024-03-09T09:03:09.022383",
     "status": "completed"
    },
    "tags": []
   },
   "outputs": [],
   "source": [
    "# import library \n",
    "from sklearn import preprocessing"
   ]
  },
  {
   "cell_type": "code",
   "execution_count": 9,
   "id": "7b4af28f",
   "metadata": {
    "execution": {
     "iopub.execute_input": "2024-03-09T09:03:10.381399Z",
     "iopub.status.busy": "2024-03-09T09:03:10.380274Z",
     "iopub.status.idle": "2024-03-09T09:03:10.406940Z",
     "shell.execute_reply": "2024-03-09T09:03:10.405709Z"
    },
    "papermill": {
     "duration": 0.03797,
     "end_time": "2024-03-09T09:03:10.409790",
     "exception": false,
     "start_time": "2024-03-09T09:03:10.371820",
     "status": "completed"
    },
    "tags": []
   },
   "outputs": [],
   "source": [
    "# Apply min-max normalization on a single attribute\n",
    "minmax_scaler = preprocessing.MinMaxScaler().fit(train[['Fare']])\n",
    "traincp['Fare_minmax']=minmax_scaler.transform(train[['Fare']])\n",
    "minmax_scaler = preprocessing.MinMaxScaler().fit(test[['Fare']])\n",
    "testcp['Fare_minmax']=minmax_scaler.transform(test[['Fare']])\n",
    "# Apply z-score normalization on a single attribute\n",
    "zscore_scaler = preprocessing.StandardScaler().fit(train[['Fare']])\n",
    "traincp['Fare_zscore']=zscore_scaler.transform(train[['Fare']])\n",
    "zscore_scaler = preprocessing.StandardScaler().fit(test[['Fare']])\n",
    "testcp['Fare_zscore']=zscore_scaler.transform(test[['Fare']])"
   ]
  },
  {
   "cell_type": "code",
   "execution_count": 10,
   "id": "affa7710",
   "metadata": {
    "execution": {
     "iopub.execute_input": "2024-03-09T09:03:10.429890Z",
     "iopub.status.busy": "2024-03-09T09:03:10.428985Z",
     "iopub.status.idle": "2024-03-09T09:03:10.554885Z",
     "shell.execute_reply": "2024-03-09T09:03:10.553680Z"
    },
    "papermill": {
     "duration": 0.140768,
     "end_time": "2024-03-09T09:03:10.558143",
     "exception": false,
     "start_time": "2024-03-09T09:03:10.417375",
     "status": "completed"
    },
    "tags": []
   },
   "outputs": [],
   "source": [
    "# define features\n",
    "features = ['Pclass', 'Age', 'SibSp', 'Parch', 'Fare', 'Sex_male', 'Embarked_Q','Embarked_S']\n",
    "\n",
    "# define target varialbe\n",
    "target = ['Survived']\n",
    "\n",
    "# Get the data\n",
    "X = traincp [features]\n",
    "y = traincp [target]\n",
    "\n",
    "# import train_test split\n",
    "from sklearn.model_selection import train_test_split\n",
    "# split train data into train and test, 60% in training and 40% in testing\n",
    "X_train, X_test, y_train, y_test = train_test_split(X, y, test_size=0.4, random_state = 42)"
   ]
  },
  {
   "cell_type": "code",
   "execution_count": 11,
   "id": "e2adfc35",
   "metadata": {
    "execution": {
     "iopub.execute_input": "2024-03-09T09:03:10.587264Z",
     "iopub.status.busy": "2024-03-09T09:03:10.586880Z",
     "iopub.status.idle": "2024-03-09T09:03:10.806201Z",
     "shell.execute_reply": "2024-03-09T09:03:10.805266Z"
    },
    "papermill": {
     "duration": 0.239845,
     "end_time": "2024-03-09T09:03:10.808964",
     "exception": false,
     "start_time": "2024-03-09T09:03:10.569119",
     "status": "completed"
    },
    "tags": []
   },
   "outputs": [],
   "source": [
    "# DecisionTreeClassifier\n",
    "from sklearn.tree import DecisionTreeClassifier\n",
    "# import evaluation tools\n",
    "from sklearn.metrics import accuracy_score\n",
    "from sklearn.metrics import confusion_matrix\n",
    "from sklearn.metrics import roc_curve, auc"
   ]
  },
  {
   "cell_type": "code",
   "execution_count": 12,
   "id": "d40770d0",
   "metadata": {
    "execution": {
     "iopub.execute_input": "2024-03-09T09:03:10.825644Z",
     "iopub.status.busy": "2024-03-09T09:03:10.825186Z",
     "iopub.status.idle": "2024-03-09T09:03:10.842769Z",
     "shell.execute_reply": "2024-03-09T09:03:10.841570Z"
    },
    "papermill": {
     "duration": 0.029414,
     "end_time": "2024-03-09T09:03:10.845949",
     "exception": false,
     "start_time": "2024-03-09T09:03:10.816535",
     "status": "completed"
    },
    "tags": []
   },
   "outputs": [
    {
     "data": {
      "text/html": [
       "<style>#sk-container-id-1 {color: black;background-color: white;}#sk-container-id-1 pre{padding: 0;}#sk-container-id-1 div.sk-toggleable {background-color: white;}#sk-container-id-1 label.sk-toggleable__label {cursor: pointer;display: block;width: 100%;margin-bottom: 0;padding: 0.3em;box-sizing: border-box;text-align: center;}#sk-container-id-1 label.sk-toggleable__label-arrow:before {content: \"▸\";float: left;margin-right: 0.25em;color: #696969;}#sk-container-id-1 label.sk-toggleable__label-arrow:hover:before {color: black;}#sk-container-id-1 div.sk-estimator:hover label.sk-toggleable__label-arrow:before {color: black;}#sk-container-id-1 div.sk-toggleable__content {max-height: 0;max-width: 0;overflow: hidden;text-align: left;background-color: #f0f8ff;}#sk-container-id-1 div.sk-toggleable__content pre {margin: 0.2em;color: black;border-radius: 0.25em;background-color: #f0f8ff;}#sk-container-id-1 input.sk-toggleable__control:checked~div.sk-toggleable__content {max-height: 200px;max-width: 100%;overflow: auto;}#sk-container-id-1 input.sk-toggleable__control:checked~label.sk-toggleable__label-arrow:before {content: \"▾\";}#sk-container-id-1 div.sk-estimator input.sk-toggleable__control:checked~label.sk-toggleable__label {background-color: #d4ebff;}#sk-container-id-1 div.sk-label input.sk-toggleable__control:checked~label.sk-toggleable__label {background-color: #d4ebff;}#sk-container-id-1 input.sk-hidden--visually {border: 0;clip: rect(1px 1px 1px 1px);clip: rect(1px, 1px, 1px, 1px);height: 1px;margin: -1px;overflow: hidden;padding: 0;position: absolute;width: 1px;}#sk-container-id-1 div.sk-estimator {font-family: monospace;background-color: #f0f8ff;border: 1px dotted black;border-radius: 0.25em;box-sizing: border-box;margin-bottom: 0.5em;}#sk-container-id-1 div.sk-estimator:hover {background-color: #d4ebff;}#sk-container-id-1 div.sk-parallel-item::after {content: \"\";width: 100%;border-bottom: 1px solid gray;flex-grow: 1;}#sk-container-id-1 div.sk-label:hover label.sk-toggleable__label {background-color: #d4ebff;}#sk-container-id-1 div.sk-serial::before {content: \"\";position: absolute;border-left: 1px solid gray;box-sizing: border-box;top: 0;bottom: 0;left: 50%;z-index: 0;}#sk-container-id-1 div.sk-serial {display: flex;flex-direction: column;align-items: center;background-color: white;padding-right: 0.2em;padding-left: 0.2em;position: relative;}#sk-container-id-1 div.sk-item {position: relative;z-index: 1;}#sk-container-id-1 div.sk-parallel {display: flex;align-items: stretch;justify-content: center;background-color: white;position: relative;}#sk-container-id-1 div.sk-item::before, #sk-container-id-1 div.sk-parallel-item::before {content: \"\";position: absolute;border-left: 1px solid gray;box-sizing: border-box;top: 0;bottom: 0;left: 50%;z-index: -1;}#sk-container-id-1 div.sk-parallel-item {display: flex;flex-direction: column;z-index: 1;position: relative;background-color: white;}#sk-container-id-1 div.sk-parallel-item:first-child::after {align-self: flex-end;width: 50%;}#sk-container-id-1 div.sk-parallel-item:last-child::after {align-self: flex-start;width: 50%;}#sk-container-id-1 div.sk-parallel-item:only-child::after {width: 0;}#sk-container-id-1 div.sk-dashed-wrapped {border: 1px dashed gray;margin: 0 0.4em 0.5em 0.4em;box-sizing: border-box;padding-bottom: 0.4em;background-color: white;}#sk-container-id-1 div.sk-label label {font-family: monospace;font-weight: bold;display: inline-block;line-height: 1.2em;}#sk-container-id-1 div.sk-label-container {text-align: center;}#sk-container-id-1 div.sk-container {/* jupyter's `normalize.less` sets `[hidden] { display: none; }` but bootstrap.min.css set `[hidden] { display: none !important; }` so we also need the `!important` here to be able to override the default hidden behavior on the sphinx rendered scikit-learn.org. See: https://github.com/scikit-learn/scikit-learn/issues/21755 */display: inline-block !important;position: relative;}#sk-container-id-1 div.sk-text-repr-fallback {display: none;}</style><div id=\"sk-container-id-1\" class=\"sk-top-container\"><div class=\"sk-text-repr-fallback\"><pre>DecisionTreeClassifier(max_depth=3, min_samples_leaf=41)</pre><b>In a Jupyter environment, please rerun this cell to show the HTML representation or trust the notebook. <br />On GitHub, the HTML representation is unable to render, please try loading this page with nbviewer.org.</b></div><div class=\"sk-container\" hidden><div class=\"sk-item\"><div class=\"sk-estimator sk-toggleable\"><input class=\"sk-toggleable__control sk-hidden--visually\" id=\"sk-estimator-id-1\" type=\"checkbox\" checked><label for=\"sk-estimator-id-1\" class=\"sk-toggleable__label sk-toggleable__label-arrow\">DecisionTreeClassifier</label><div class=\"sk-toggleable__content\"><pre>DecisionTreeClassifier(max_depth=3, min_samples_leaf=41)</pre></div></div></div></div></div>"
      ],
      "text/plain": [
       "DecisionTreeClassifier(max_depth=3, min_samples_leaf=41)"
      ]
     },
     "execution_count": 12,
     "metadata": {},
     "output_type": "execute_result"
    }
   ],
   "source": [
    "# define our model decision tree model with some hyperparameters\n",
    "model = DecisionTreeClassifier(max_depth = 3, min_samples_leaf = 41)\n",
    "# build the decision tree model based on defalut hyperparameter settings\n",
    "model.fit(X_train, y_train)"
   ]
  },
  {
   "cell_type": "code",
   "execution_count": 13,
   "id": "b5ebb82d",
   "metadata": {
    "execution": {
     "iopub.execute_input": "2024-03-09T09:03:10.864573Z",
     "iopub.status.busy": "2024-03-09T09:03:10.863878Z",
     "iopub.status.idle": "2024-03-09T09:03:10.958255Z",
     "shell.execute_reply": "2024-03-09T09:03:10.957427Z"
    },
    "papermill": {
     "duration": 0.106251,
     "end_time": "2024-03-09T09:03:10.960715",
     "exception": false,
     "start_time": "2024-03-09T09:03:10.854464",
     "status": "completed"
    },
    "tags": []
   },
   "outputs": [],
   "source": [
    "import matplotlib.pylab as plt\n",
    "%matplotlib inline\n",
    "plt.rcParams['figure.figsize'] = 8, 7\n",
    "\n",
    "# Function to plot the results\n",
    "def plot_fitting_curves(results):\n",
    "    results.plot(\"min_leaves\")\n",
    "    plt.ylabel(\"Accuracy\")\n",
    "    plt.xlabel(\"Min samples per leaf (inverse of complexity)\")\n",
    "    plt.show()"
   ]
  },
  {
   "cell_type": "code",
   "execution_count": 14,
   "id": "0f580d4f",
   "metadata": {
    "execution": {
     "iopub.execute_input": "2024-03-09T09:03:10.978004Z",
     "iopub.status.busy": "2024-03-09T09:03:10.976922Z",
     "iopub.status.idle": "2024-03-09T09:03:11.637473Z",
     "shell.execute_reply": "2024-03-09T09:03:11.636341Z"
    },
    "papermill": {
     "duration": 0.672023,
     "end_time": "2024-03-09T09:03:11.640142",
     "exception": false,
     "start_time": "2024-03-09T09:03:10.968119",
     "status": "completed"
    },
    "tags": []
   },
   "outputs": [
    {
     "name": "stdout",
     "output_type": "stream",
     "text": [
      "Size of training data: 427\n",
      "Size of validation data: 107\n",
      "Size of test data:357\n"
     ]
    },
    {
     "data": {
      "image/png": "[encoded data removed]",
      "text/plain": [
       "<Figure size 800x700 with 1 Axes>"
      ]
     },
     "metadata": {},
     "output_type": "display_data"
    }
   ],
   "source": [
    "# Split into a sub training set and validation set\n",
    "X_strain, X_val, y_strain, y_val = train_test_split(X_train, y_train, test_size=0.2, random_state=42)\n",
    "print(f\"Size of training data: {X_strain.shape[0]}\")\n",
    "print(f\"Size of validation data: {X_val.shape[0]}\")\n",
    "print(f\"Size of test data:{X_test.shape[0]}\")\n",
    "min_leaves = range(1,100,5)\n",
    "\n",
    "Accuracy_val = []\n",
    "Accuracy_test = []\n",
    "for m in min_leaves:\n",
    "    # We train the model with only a portion of the training data (the 'sub-training' data set)\n",
    "    model_val = DecisionTreeClassifier(min_samples_leaf=m, random_state=42)\n",
    "    model_val.fit(X_strain, y_strain)\n",
    "    predictions_val = model_val.predict(X_val)\n",
    "    model_test = DecisionTreeClassifier(min_samples_leaf=m, random_state=42)\n",
    "    model_test.fit(X_train,y_train)\n",
    "    predictions_test = model_test.predict(X_test)\n",
    "    # And we evaluate in the validation set\n",
    "    accuracy_val = accuracy_score(y_val, predictions_val,normalize=True, sample_weight=None)\n",
    "    Accuracy_val.append(accuracy_val)\n",
    "    accuracy_test = accuracy_score(y_test, predictions_test,normalize=True, sample_weight=None)\n",
    "    Accuracy_test.append(accuracy_test)\n",
    "    \n",
    "\n",
    "results = pd.DataFrame({\"min_leaves\": min_leaves, \"validation\":Accuracy_val, \"test\":Accuracy_test})\n",
    "plot_fitting_curves(results)"
   ]
  },
  {
   "cell_type": "code",
   "execution_count": 15,
   "id": "4763ab08",
   "metadata": {
    "execution": {
     "iopub.execute_input": "2024-03-09T09:03:11.659172Z",
     "iopub.status.busy": "2024-03-09T09:03:11.658774Z",
     "iopub.status.idle": "2024-03-09T09:03:11.663131Z",
     "shell.execute_reply": "2024-03-09T09:03:11.662092Z"
    },
    "papermill": {
     "duration": 0.017106,
     "end_time": "2024-03-09T09:03:11.665557",
     "exception": false,
     "start_time": "2024-03-09T09:03:11.648451",
     "status": "completed"
    },
    "tags": []
   },
   "outputs": [],
   "source": [
    "# import cross validation \n",
    "from sklearn.model_selection import cross_val_score"
   ]
  },
  {
   "cell_type": "code",
   "execution_count": 16,
   "id": "4dc47416",
   "metadata": {
    "execution": {
     "iopub.execute_input": "2024-03-09T09:03:11.684459Z",
     "iopub.status.busy": "2024-03-09T09:03:11.683426Z",
     "iopub.status.idle": "2024-03-09T09:03:12.673411Z",
     "shell.execute_reply": "2024-03-09T09:03:12.672411Z"
    },
    "papermill": {
     "duration": 1.002367,
     "end_time": "2024-03-09T09:03:12.676342",
     "exception": false,
     "start_time": "2024-03-09T09:03:11.673975",
     "status": "completed"
    },
    "tags": []
   },
   "outputs": [
    {
     "data": {
      "image/png": "[encoded data removed]",
      "text/plain": [
       "<Figure size 800x700 with 1 Axes>"
      ]
     },
     "metadata": {},
     "output_type": "display_data"
    }
   ],
   "source": [
    "from sklearn.model_selection import cross_val_predict\n",
    "Accuracy_cv = []\n",
    "for m in min_leaves:\n",
    "    # Define hyperparamter for complexity control\n",
    "    algorithm = DecisionTreeClassifier(min_samples_leaf=m, random_state=42)\n",
    "    # Evaluate the performance of the hyperparameter with cross validation. \n",
    "    # The parameter 'cv' is used to determine the number of splits (folds). \n",
    "    predictions_cv = cross_val_predict(algorithm, X_train, y_train, cv=5)\n",
    "    accuracy_cv = accuracy_score(y_train, predictions_cv,normalize=True, sample_weight=None)\n",
    "    Accuracy_cv.append(accuracy_cv)\n",
    "\n",
    "results = pd.DataFrame({\"min_leaves\": min_leaves, \"validation\":Accuracy_val, \"cross-validation\":Accuracy_cv, \"test\":Accuracy_test})\n",
    "plot_fitting_curves(results)\n",
    "# The model converge"
   ]
  },
  {
   "cell_type": "code",
   "execution_count": 17,
   "id": "49e33075",
   "metadata": {
    "execution": {
     "iopub.execute_input": "2024-03-09T09:03:12.696457Z",
     "iopub.status.busy": "2024-03-09T09:03:12.696084Z",
     "iopub.status.idle": "2024-03-09T09:03:13.963174Z",
     "shell.execute_reply": "2024-03-09T09:03:13.962113Z"
    },
    "papermill": {
     "duration": 1.2797,
     "end_time": "2024-03-09T09:03:13.965559",
     "exception": false,
     "start_time": "2024-03-09T09:03:12.685859",
     "status": "completed"
    },
    "tags": []
   },
   "outputs": [
    {
     "data": {
      "text/plain": [
       "Text(0, 0.5, 'Accuracy')"
      ]
     },
     "execution_count": 17,
     "metadata": {},
     "output_type": "execute_result"
    },
    {
     "data": {
      "image/png": "[encoded data removed]",
      "text/plain": [
       "<Figure size 800x700 with 1 Axes>"
      ]
     },
     "metadata": {},
     "output_type": "display_data"
    }
   ],
   "source": [
    "#finding optimal max_depth\n",
    "# List of values to try for max_depth:\n",
    "max_depth_range = list(range(1, 21))  # Adjust this range according to your needs\n",
    "\n",
    "# List to store the average RMSE for each value of max_depth:\n",
    "accuracy_scores = []\n",
    "\n",
    "# Use 5-fold cross-validation with each value of max_depth:\n",
    "for depth in max_depth_range:\n",
    "    tree = DecisionTreeClassifier(max_depth=depth, random_state=42)\n",
    "    accuracy_score = cross_val_score(tree, X_train, y_train, cv=5, scoring='accuracy')\n",
    "    accuracy_scores.append(np.mean(accuracy_score))\n",
    "\n",
    "# Plot max_depth (x-axis) versus RMSE (y-axis):\n",
    "plt.plot(max_depth_range, accuracy_scores)\n",
    "plt.xlabel('max_depth')\n",
    "plt.ylabel('Accuracy')\n",
    "#optimal at 3,5"
   ]
  },
  {
   "cell_type": "code",
   "execution_count": 18,
   "id": "7b9338b0",
   "metadata": {
    "execution": {
     "iopub.execute_input": "2024-03-09T09:03:13.988035Z",
     "iopub.status.busy": "2024-03-09T09:03:13.987614Z",
     "iopub.status.idle": "2024-03-09T09:03:13.998797Z",
     "shell.execute_reply": "2024-03-09T09:03:13.998039Z"
    },
    "papermill": {
     "duration": 0.024694,
     "end_time": "2024-03-09T09:03:14.000694",
     "exception": false,
     "start_time": "2024-03-09T09:03:13.976000",
     "status": "completed"
    },
    "tags": []
   },
   "outputs": [
    {
     "data": {
      "text/html": [
       "<style>#sk-container-id-2 {color: black;background-color: white;}#sk-container-id-2 pre{padding: 0;}#sk-container-id-2 div.sk-toggleable {background-color: white;}#sk-container-id-2 label.sk-toggleable__label {cursor: pointer;display: block;width: 100%;margin-bottom: 0;padding: 0.3em;box-sizing: border-box;text-align: center;}#sk-container-id-2 label.sk-toggleable__label-arrow:before {content: \"▸\";float: left;margin-right: 0.25em;color: #696969;}#sk-container-id-2 label.sk-toggleable__label-arrow:hover:before {color: black;}#sk-container-id-2 div.sk-estimator:hover label.sk-toggleable__label-arrow:before {color: black;}#sk-container-id-2 div.sk-toggleable__content {max-height: 0;max-width: 0;overflow: hidden;text-align: left;background-color: #f0f8ff;}#sk-container-id-2 div.sk-toggleable__content pre {margin: 0.2em;color: black;border-radius: 0.25em;background-color: #f0f8ff;}#sk-container-id-2 input.sk-toggleable__control:checked~div.sk-toggleable__content {max-height: 200px;max-width: 100%;overflow: auto;}#sk-container-id-2 input.sk-toggleable__control:checked~label.sk-toggleable__label-arrow:before {content: \"▾\";}#sk-container-id-2 div.sk-estimator input.sk-toggleable__control:checked~label.sk-toggleable__label {background-color: #d4ebff;}#sk-container-id-2 div.sk-label input.sk-toggleable__control:checked~label.sk-toggleable__label {background-color: #d4ebff;}#sk-container-id-2 input.sk-hidden--visually {border: 0;clip: rect(1px 1px 1px 1px);clip: rect(1px, 1px, 1px, 1px);height: 1px;margin: -1px;overflow: hidden;padding: 0;position: absolute;width: 1px;}#sk-container-id-2 div.sk-estimator {font-family: monospace;background-color: #f0f8ff;border: 1px dotted black;border-radius: 0.25em;box-sizing: border-box;margin-bottom: 0.5em;}#sk-container-id-2 div.sk-estimator:hover {background-color: #d4ebff;}#sk-container-id-2 div.sk-parallel-item::after {content: \"\";width: 100%;border-bottom: 1px solid gray;flex-grow: 1;}#sk-container-id-2 div.sk-label:hover label.sk-toggleable__label {background-color: #d4ebff;}#sk-container-id-2 div.sk-serial::before {content: \"\";position: absolute;border-left: 1px solid gray;box-sizing: border-box;top: 0;bottom: 0;left: 50%;z-index: 0;}#sk-container-id-2 div.sk-serial {display: flex;flex-direction: column;align-items: center;background-color: white;padding-right: 0.2em;padding-left: 0.2em;position: relative;}#sk-container-id-2 div.sk-item {position: relative;z-index: 1;}#sk-container-id-2 div.sk-parallel {display: flex;align-items: stretch;justify-content: center;background-color: white;position: relative;}#sk-container-id-2 div.sk-item::before, #sk-container-id-2 div.sk-parallel-item::before {content: \"\";position: absolute;border-left: 1px solid gray;box-sizing: border-box;top: 0;bottom: 0;left: 50%;z-index: -1;}#sk-container-id-2 div.sk-parallel-item {display: flex;flex-direction: column;z-index: 1;position: relative;background-color: white;}#sk-container-id-2 div.sk-parallel-item:first-child::after {align-self: flex-end;width: 50%;}#sk-container-id-2 div.sk-parallel-item:last-child::after {align-self: flex-start;width: 50%;}#sk-container-id-2 div.sk-parallel-item:only-child::after {width: 0;}#sk-container-id-2 div.sk-dashed-wrapped {border: 1px dashed gray;margin: 0 0.4em 0.5em 0.4em;box-sizing: border-box;padding-bottom: 0.4em;background-color: white;}#sk-container-id-2 div.sk-label label {font-family: monospace;font-weight: bold;display: inline-block;line-height: 1.2em;}#sk-container-id-2 div.sk-label-container {text-align: center;}#sk-container-id-2 div.sk-container {/* jupyter's `normalize.less` sets `[hidden] { display: none; }` but bootstrap.min.css set `[hidden] { display: none !important; }` so we also need the `!important` here to be able to override the default hidden behavior on the sphinx rendered scikit-learn.org. See: https://github.com/scikit-learn/scikit-learn/issues/21755 */display: inline-block !important;position: relative;}#sk-container-id-2 div.sk-text-repr-fallback {display: none;}</style><div id=\"sk-container-id-2\" class=\"sk-top-container\"><div class=\"sk-text-repr-fallback\"><pre>DecisionTreeClassifier(max_depth=3, min_samples_leaf=75)</pre><b>In a Jupyter environment, please rerun this cell to show the HTML representation or trust the notebook. <br />On GitHub, the HTML representation is unable to render, please try loading this page with nbviewer.org.</b></div><div class=\"sk-container\" hidden><div class=\"sk-item\"><div class=\"sk-estimator sk-toggleable\"><input class=\"sk-toggleable__control sk-hidden--visually\" id=\"sk-estimator-id-2\" type=\"checkbox\" checked><label for=\"sk-estimator-id-2\" class=\"sk-toggleable__label sk-toggleable__label-arrow\">DecisionTreeClassifier</label><div class=\"sk-toggleable__content\"><pre>DecisionTreeClassifier(max_depth=3, min_samples_leaf=75)</pre></div></div></div></div></div>"
      ],
      "text/plain": [
       "DecisionTreeClassifier(max_depth=3, min_samples_leaf=75)"
      ]
     },
     "execution_count": 18,
     "metadata": {},
     "output_type": "execute_result"
    }
   ],
   "source": [
    "#change the hyperparameter to the optimal value.\n",
    "model = DecisionTreeClassifier(max_depth = 3, min_samples_leaf = 75)\n",
    "model.fit(X_train, y_train)"
   ]
  },
  {
   "cell_type": "code",
   "execution_count": 19,
   "id": "72ade8a0",
   "metadata": {
    "execution": {
     "iopub.execute_input": "2024-03-09T09:03:14.023366Z",
     "iopub.status.busy": "2024-03-09T09:03:14.022786Z",
     "iopub.status.idle": "2024-03-09T09:03:14.028740Z",
     "shell.execute_reply": "2024-03-09T09:03:14.027878Z"
    },
    "papermill": {
     "duration": 0.019586,
     "end_time": "2024-03-09T09:03:14.030918",
     "exception": false,
     "start_time": "2024-03-09T09:03:14.011332",
     "status": "completed"
    },
    "tags": []
   },
   "outputs": [],
   "source": [
    "# make prediction on split_test data\n",
    "pre_val = model.predict(X_train)"
   ]
  },
  {
   "cell_type": "code",
   "execution_count": null,
   "id": "4e49f81e",
   "metadata": {
    "execution": {
     "iopub.execute_input": "2024-03-09T08:56:35.924230Z",
     "iopub.status.busy": "2024-03-09T08:56:35.923828Z",
     "iopub.status.idle": "2024-03-09T08:56:35.934832Z",
     "shell.execute_reply": "2024-03-09T08:56:35.933661Z",
     "shell.execute_reply.started": "2024-03-09T08:56:35.924197Z"
    },
    "papermill": {
     "duration": 0.009548,
     "end_time": "2024-03-09T09:03:14.050503",
     "exception": false,
     "start_time": "2024-03-09T09:03:14.040955",
     "status": "completed"
    },
    "tags": []
   },
   "outputs": [],
   "source": []
  },
  {
   "cell_type": "code",
   "execution_count": 20,
   "id": "e475e6e2",
   "metadata": {
    "execution": {
     "iopub.execute_input": "2024-03-09T09:03:14.073242Z",
     "iopub.status.busy": "2024-03-09T09:03:14.072589Z",
     "iopub.status.idle": "2024-03-09T09:03:14.085358Z",
     "shell.execute_reply": "2024-03-09T09:03:14.084298Z"
    },
    "papermill": {
     "duration": 0.026887,
     "end_time": "2024-03-09T09:03:14.087691",
     "exception": false,
     "start_time": "2024-03-09T09:03:14.060804",
     "status": "completed"
    },
    "tags": []
   },
   "outputs": [
    {
     "name": "stdout",
     "output_type": "stream",
     "text": [
      "Accuracy: 0.797752808988764\n",
      "Confusion Matrix: \n",
      " [[330   3]\n",
      " [105  96]]\n"
     ]
    }
   ],
   "source": [
    "from sklearn.metrics import accuracy_score\n",
    "\n",
    "# evaluate result \n",
    "print(\"Accuracy:\",accuracy_score(y_train, pre_val, normalize=True, sample_weight=None))\n",
    "print(\"Confusion Matrix:\", '\\n', confusion_matrix(y_train, pre_val))"
   ]
  },
  {
   "cell_type": "code",
   "execution_count": 21,
   "id": "95b4e5dc",
   "metadata": {
    "execution": {
     "iopub.execute_input": "2024-03-09T09:03:14.110111Z",
     "iopub.status.busy": "2024-03-09T09:03:14.109749Z",
     "iopub.status.idle": "2024-03-09T09:03:14.115105Z",
     "shell.execute_reply": "2024-03-09T09:03:14.114017Z"
    },
    "papermill": {
     "duration": 0.018876,
     "end_time": "2024-03-09T09:03:14.117334",
     "exception": false,
     "start_time": "2024-03-09T09:03:14.098458",
     "status": "completed"
    },
    "tags": []
   },
   "outputs": [],
   "source": [
    "from sklearn.model_selection import GridSearchCV\n",
    "# make an array of depths to choose from 1 to 20\n",
    "depths = np.arange(1, 21)\n",
    "# define the number to try out for max leaf nodes\n",
    "num_leafs = [5, 10, 20, 50, 75,100]\n",
    "try_grid = [{'max_depth':depths,\n",
    "              'max_leaf_nodes':num_leafs}]"
   ]
  },
  {
   "cell_type": "code",
   "execution_count": 22,
   "id": "24e0a55d",
   "metadata": {
    "execution": {
     "iopub.execute_input": "2024-03-09T09:03:14.139406Z",
     "iopub.status.busy": "2024-03-09T09:03:14.139035Z",
     "iopub.status.idle": "2024-03-09T09:03:14.144004Z",
     "shell.execute_reply": "2024-03-09T09:03:14.142917Z"
    },
    "papermill": {
     "duration": 0.018458,
     "end_time": "2024-03-09T09:03:14.146167",
     "exception": false,
     "start_time": "2024-03-09T09:03:14.127709",
     "status": "completed"
    },
    "tags": []
   },
   "outputs": [],
   "source": [
    "DTM = GridSearchCV(DecisionTreeClassifier(), param_grid=try_grid, cv=10)"
   ]
  },
  {
   "cell_type": "code",
   "execution_count": 23,
   "id": "4c1efc77",
   "metadata": {
    "execution": {
     "iopub.execute_input": "2024-03-09T09:03:14.168235Z",
     "iopub.status.busy": "2024-03-09T09:03:14.167862Z",
     "iopub.status.idle": "2024-03-09T09:03:24.713252Z",
     "shell.execute_reply": "2024-03-09T09:03:24.712386Z"
    },
    "papermill": {
     "duration": 10.558993,
     "end_time": "2024-03-09T09:03:24.715360",
     "exception": false,
     "start_time": "2024-03-09T09:03:14.156367",
     "status": "completed"
    },
    "tags": []
   },
   "outputs": [
    {
     "data": {
      "text/html": [
       "<style>#sk-container-id-3 {color: black;background-color: white;}#sk-container-id-3 pre{padding: 0;}#sk-container-id-3 div.sk-toggleable {background-color: white;}#sk-container-id-3 label.sk-toggleable__label {cursor: pointer;display: block;width: 100%;margin-bottom: 0;padding: 0.3em;box-sizing: border-box;text-align: center;}#sk-container-id-3 label.sk-toggleable__label-arrow:before {content: \"▸\";float: left;margin-right: 0.25em;color: #696969;}#sk-container-id-3 label.sk-toggleable__label-arrow:hover:before {color: black;}#sk-container-id-3 div.sk-estimator:hover label.sk-toggleable__label-arrow:before {color: black;}#sk-container-id-3 div.sk-toggleable__content {max-height: 0;max-width: 0;overflow: hidden;text-align: left;background-color: #f0f8ff;}#sk-container-id-3 div.sk-toggleable__content pre {margin: 0.2em;color: black;border-radius: 0.25em;background-color: #f0f8ff;}#sk-container-id-3 input.sk-toggleable__control:checked~div.sk-toggleable__content {max-height: 200px;max-width: 100%;overflow: auto;}#sk-container-id-3 input.sk-toggleable__control:checked~label.sk-toggleable__label-arrow:before {content: \"▾\";}#sk-container-id-3 div.sk-estimator input.sk-toggleable__control:checked~label.sk-toggleable__label {background-color: #d4ebff;}#sk-container-id-3 div.sk-label input.sk-toggleable__control:checked~label.sk-toggleable__label {background-color: #d4ebff;}#sk-container-id-3 input.sk-hidden--visually {border: 0;clip: rect(1px 1px 1px 1px);clip: rect(1px, 1px, 1px, 1px);height: 1px;margin: -1px;overflow: hidden;padding: 0;position: absolute;width: 1px;}#sk-container-id-3 div.sk-estimator {font-family: monospace;background-color: #f0f8ff;border: 1px dotted black;border-radius: 0.25em;box-sizing: border-box;margin-bottom: 0.5em;}#sk-container-id-3 div.sk-estimator:hover {background-color: #d4ebff;}#sk-container-id-3 div.sk-parallel-item::after {content: \"\";width: 100%;border-bottom: 1px solid gray;flex-grow: 1;}#sk-container-id-3 div.sk-label:hover label.sk-toggleable__label {background-color: #d4ebff;}#sk-container-id-3 div.sk-serial::before {content: \"\";position: absolute;border-left: 1px solid gray;box-sizing: border-box;top: 0;bottom: 0;left: 50%;z-index: 0;}#sk-container-id-3 div.sk-serial {display: flex;flex-direction: column;align-items: center;background-color: white;padding-right: 0.2em;padding-left: 0.2em;position: relative;}#sk-container-id-3 div.sk-item {position: relative;z-index: 1;}#sk-container-id-3 div.sk-parallel {display: flex;align-items: stretch;justify-content: center;background-color: white;position: relative;}#sk-container-id-3 div.sk-item::before, #sk-container-id-3 div.sk-parallel-item::before {content: \"\";position: absolute;border-left: 1px solid gray;box-sizing: border-box;top: 0;bottom: 0;left: 50%;z-index: -1;}#sk-container-id-3 div.sk-parallel-item {display: flex;flex-direction: column;z-index: 1;position: relative;background-color: white;}#sk-container-id-3 div.sk-parallel-item:first-child::after {align-self: flex-end;width: 50%;}#sk-container-id-3 div.sk-parallel-item:last-child::after {align-self: flex-start;width: 50%;}#sk-container-id-3 div.sk-parallel-item:only-child::after {width: 0;}#sk-container-id-3 div.sk-dashed-wrapped {border: 1px dashed gray;margin: 0 0.4em 0.5em 0.4em;box-sizing: border-box;padding-bottom: 0.4em;background-color: white;}#sk-container-id-3 div.sk-label label {font-family: monospace;font-weight: bold;display: inline-block;line-height: 1.2em;}#sk-container-id-3 div.sk-label-container {text-align: center;}#sk-container-id-3 div.sk-container {/* jupyter's `normalize.less` sets `[hidden] { display: none; }` but bootstrap.min.css set `[hidden] { display: none !important; }` so we also need the `!important` here to be able to override the default hidden behavior on the sphinx rendered scikit-learn.org. See: https://github.com/scikit-learn/scikit-learn/issues/21755 */display: inline-block !important;position: relative;}#sk-container-id-3 div.sk-text-repr-fallback {display: none;}</style><div id=\"sk-container-id-3\" class=\"sk-top-container\"><div class=\"sk-text-repr-fallback\"><pre>GridSearchCV(cv=10, estimator=DecisionTreeClassifier(),\n",
       "             param_grid=[{&#x27;max_depth&#x27;: array([ 1,  2,  3,  4,  5,  6,  7,  8,  9, 10, 11, 12, 13, 14, 15, 16, 17,\n",
       "       18, 19, 20]),\n",
       "                          &#x27;max_leaf_nodes&#x27;: [5, 10, 20, 50, 75, 100]}])</pre><b>In a Jupyter environment, please rerun this cell to show the HTML representation or trust the notebook. <br />On GitHub, the HTML representation is unable to render, please try loading this page with nbviewer.org.</b></div><div class=\"sk-container\" hidden><div class=\"sk-item sk-dashed-wrapped\"><div class=\"sk-label-container\"><div class=\"sk-label sk-toggleable\"><input class=\"sk-toggleable__control sk-hidden--visually\" id=\"sk-estimator-id-3\" type=\"checkbox\" ><label for=\"sk-estimator-id-3\" class=\"sk-toggleable__label sk-toggleable__label-arrow\">GridSearchCV</label><div class=\"sk-toggleable__content\"><pre>GridSearchCV(cv=10, estimator=DecisionTreeClassifier(),\n",
       "             param_grid=[{&#x27;max_depth&#x27;: array([ 1,  2,  3,  4,  5,  6,  7,  8,  9, 10, 11, 12, 13, 14, 15, 16, 17,\n",
       "       18, 19, 20]),\n",
       "                          &#x27;max_leaf_nodes&#x27;: [5, 10, 20, 50, 75, 100]}])</pre></div></div></div><div class=\"sk-parallel\"><div class=\"sk-parallel-item\"><div class=\"sk-item\"><div class=\"sk-label-container\"><div class=\"sk-label sk-toggleable\"><input class=\"sk-toggleable__control sk-hidden--visually\" id=\"sk-estimator-id-4\" type=\"checkbox\" ><label for=\"sk-estimator-id-4\" class=\"sk-toggleable__label sk-toggleable__label-arrow\">estimator: DecisionTreeClassifier</label><div class=\"sk-toggleable__content\"><pre>DecisionTreeClassifier()</pre></div></div></div><div class=\"sk-serial\"><div class=\"sk-item\"><div class=\"sk-estimator sk-toggleable\"><input class=\"sk-toggleable__control sk-hidden--visually\" id=\"sk-estimator-id-5\" type=\"checkbox\" ><label for=\"sk-estimator-id-5\" class=\"sk-toggleable__label sk-toggleable__label-arrow\">DecisionTreeClassifier</label><div class=\"sk-toggleable__content\"><pre>DecisionTreeClassifier()</pre></div></div></div></div></div></div></div></div></div></div>"
      ],
      "text/plain": [
       "GridSearchCV(cv=10, estimator=DecisionTreeClassifier(),\n",
       "             param_grid=[{'max_depth': array([ 1,  2,  3,  4,  5,  6,  7,  8,  9, 10, 11, 12, 13, 14, 15, 16, 17,\n",
       "       18, 19, 20]),\n",
       "                          'max_leaf_nodes': [5, 10, 20, 50, 75, 100]}])"
      ]
     },
     "execution_count": 23,
     "metadata": {},
     "output_type": "execute_result"
    }
   ],
   "source": [
    "DTM.fit(X_train, y_train)"
   ]
  },
  {
   "cell_type": "code",
   "execution_count": 24,
   "id": "eba52c28",
   "metadata": {
    "execution": {
     "iopub.execute_input": "2024-03-09T09:03:24.738660Z",
     "iopub.status.busy": "2024-03-09T09:03:24.738074Z",
     "iopub.status.idle": "2024-03-09T09:03:24.742904Z",
     "shell.execute_reply": "2024-03-09T09:03:24.741866Z"
    },
    "papermill": {
     "duration": 0.018931,
     "end_time": "2024-03-09T09:03:24.745022",
     "exception": false,
     "start_time": "2024-03-09T09:03:24.726091",
     "status": "completed"
    },
    "tags": []
   },
   "outputs": [
    {
     "name": "stdout",
     "output_type": "stream",
     "text": [
      "{'max_depth': 6, 'max_leaf_nodes': 10} 0.8312718378756113\n"
     ]
    }
   ],
   "source": [
    "print(DTM.best_params_,DTM.best_score_)"
   ]
  },
  {
   "cell_type": "code",
   "execution_count": 25,
   "id": "5f19d363",
   "metadata": {
    "execution": {
     "iopub.execute_input": "2024-03-09T09:03:24.768015Z",
     "iopub.status.busy": "2024-03-09T09:03:24.767239Z",
     "iopub.status.idle": "2024-03-09T09:03:24.778628Z",
     "shell.execute_reply": "2024-03-09T09:03:24.777879Z"
    },
    "papermill": {
     "duration": 0.02539,
     "end_time": "2024-03-09T09:03:24.780863",
     "exception": false,
     "start_time": "2024-03-09T09:03:24.755473",
     "status": "completed"
    },
    "tags": []
   },
   "outputs": [
    {
     "data": {
      "text/html": [
       "<style>#sk-container-id-4 {color: black;background-color: white;}#sk-container-id-4 pre{padding: 0;}#sk-container-id-4 div.sk-toggleable {background-color: white;}#sk-container-id-4 label.sk-toggleable__label {cursor: pointer;display: block;width: 100%;margin-bottom: 0;padding: 0.3em;box-sizing: border-box;text-align: center;}#sk-container-id-4 label.sk-toggleable__label-arrow:before {content: \"▸\";float: left;margin-right: 0.25em;color: #696969;}#sk-container-id-4 label.sk-toggleable__label-arrow:hover:before {color: black;}#sk-container-id-4 div.sk-estimator:hover label.sk-toggleable__label-arrow:before {color: black;}#sk-container-id-4 div.sk-toggleable__content {max-height: 0;max-width: 0;overflow: hidden;text-align: left;background-color: #f0f8ff;}#sk-container-id-4 div.sk-toggleable__content pre {margin: 0.2em;color: black;border-radius: 0.25em;background-color: #f0f8ff;}#sk-container-id-4 input.sk-toggleable__control:checked~div.sk-toggleable__content {max-height: 200px;max-width: 100%;overflow: auto;}#sk-container-id-4 input.sk-toggleable__control:checked~label.sk-toggleable__label-arrow:before {content: \"▾\";}#sk-container-id-4 div.sk-estimator input.sk-toggleable__control:checked~label.sk-toggleable__label {background-color: #d4ebff;}#sk-container-id-4 div.sk-label input.sk-toggleable__control:checked~label.sk-toggleable__label {background-color: #d4ebff;}#sk-container-id-4 input.sk-hidden--visually {border: 0;clip: rect(1px 1px 1px 1px);clip: rect(1px, 1px, 1px, 1px);height: 1px;margin: -1px;overflow: hidden;padding: 0;position: absolute;width: 1px;}#sk-container-id-4 div.sk-estimator {font-family: monospace;background-color: #f0f8ff;border: 1px dotted black;border-radius: 0.25em;box-sizing: border-box;margin-bottom: 0.5em;}#sk-container-id-4 div.sk-estimator:hover {background-color: #d4ebff;}#sk-container-id-4 div.sk-parallel-item::after {content: \"\";width: 100%;border-bottom: 1px solid gray;flex-grow: 1;}#sk-container-id-4 div.sk-label:hover label.sk-toggleable__label {background-color: #d4ebff;}#sk-container-id-4 div.sk-serial::before {content: \"\";position: absolute;border-left: 1px solid gray;box-sizing: border-box;top: 0;bottom: 0;left: 50%;z-index: 0;}#sk-container-id-4 div.sk-serial {display: flex;flex-direction: column;align-items: center;background-color: white;padding-right: 0.2em;padding-left: 0.2em;position: relative;}#sk-container-id-4 div.sk-item {position: relative;z-index: 1;}#sk-container-id-4 div.sk-parallel {display: flex;align-items: stretch;justify-content: center;background-color: white;position: relative;}#sk-container-id-4 div.sk-item::before, #sk-container-id-4 div.sk-parallel-item::before {content: \"\";position: absolute;border-left: 1px solid gray;box-sizing: border-box;top: 0;bottom: 0;left: 50%;z-index: -1;}#sk-container-id-4 div.sk-parallel-item {display: flex;flex-direction: column;z-index: 1;position: relative;background-color: white;}#sk-container-id-4 div.sk-parallel-item:first-child::after {align-self: flex-end;width: 50%;}#sk-container-id-4 div.sk-parallel-item:last-child::after {align-self: flex-start;width: 50%;}#sk-container-id-4 div.sk-parallel-item:only-child::after {width: 0;}#sk-container-id-4 div.sk-dashed-wrapped {border: 1px dashed gray;margin: 0 0.4em 0.5em 0.4em;box-sizing: border-box;padding-bottom: 0.4em;background-color: white;}#sk-container-id-4 div.sk-label label {font-family: monospace;font-weight: bold;display: inline-block;line-height: 1.2em;}#sk-container-id-4 div.sk-label-container {text-align: center;}#sk-container-id-4 div.sk-container {/* jupyter's `normalize.less` sets `[hidden] { display: none; }` but bootstrap.min.css set `[hidden] { display: none !important; }` so we also need the `!important` here to be able to override the default hidden behavior on the sphinx rendered scikit-learn.org. See: https://github.com/scikit-learn/scikit-learn/issues/21755 */display: inline-block !important;position: relative;}#sk-container-id-4 div.sk-text-repr-fallback {display: none;}</style><div id=\"sk-container-id-4\" class=\"sk-top-container\"><div class=\"sk-text-repr-fallback\"><pre>DecisionTreeClassifier(max_depth=6, min_samples_leaf=10)</pre><b>In a Jupyter environment, please rerun this cell to show the HTML representation or trust the notebook. <br />On GitHub, the HTML representation is unable to render, please try loading this page with nbviewer.org.</b></div><div class=\"sk-container\" hidden><div class=\"sk-item\"><div class=\"sk-estimator sk-toggleable\"><input class=\"sk-toggleable__control sk-hidden--visually\" id=\"sk-estimator-id-6\" type=\"checkbox\" checked><label for=\"sk-estimator-id-6\" class=\"sk-toggleable__label sk-toggleable__label-arrow\">DecisionTreeClassifier</label><div class=\"sk-toggleable__content\"><pre>DecisionTreeClassifier(max_depth=6, min_samples_leaf=10)</pre></div></div></div></div></div>"
      ],
      "text/plain": [
       "DecisionTreeClassifier(max_depth=6, min_samples_leaf=10)"
      ]
     },
     "execution_count": 25,
     "metadata": {},
     "output_type": "execute_result"
    }
   ],
   "source": [
    "model = DecisionTreeClassifier(max_depth = 6, min_samples_leaf = 10)\n",
    "model.fit(X_train, y_train)"
   ]
  },
  {
   "cell_type": "code",
   "execution_count": 26,
   "id": "f7fa00a7",
   "metadata": {
    "execution": {
     "iopub.execute_input": "2024-03-09T09:03:24.804732Z",
     "iopub.status.busy": "2024-03-09T09:03:24.804102Z",
     "iopub.status.idle": "2024-03-09T09:03:24.818885Z",
     "shell.execute_reply": "2024-03-09T09:03:24.817717Z"
    },
    "papermill": {
     "duration": 0.02948,
     "end_time": "2024-03-09T09:03:24.821460",
     "exception": false,
     "start_time": "2024-03-09T09:03:24.791980",
     "status": "completed"
    },
    "tags": []
   },
   "outputs": [
    {
     "name": "stdout",
     "output_type": "stream",
     "text": [
      "Accuracy: 0.8576779026217228\n",
      "Confusion Matrix: \n",
      " [[314  19]\n",
      " [ 57 144]]\n"
     ]
    }
   ],
   "source": [
    "pre_val = model.predict(X_train)\n",
    "from sklearn.metrics import accuracy_score\n",
    "\n",
    "# evaluate result \n",
    "print(\"Accuracy:\",accuracy_score(y_train, pre_val, normalize=True, sample_weight=None))\n",
    "print(\"Confusion Matrix:\", '\\n', confusion_matrix(y_train, pre_val))"
   ]
  },
  {
   "cell_type": "code",
   "execution_count": 27,
   "id": "63258f48",
   "metadata": {
    "execution": {
     "iopub.execute_input": "2024-03-09T09:03:24.844809Z",
     "iopub.status.busy": "2024-03-09T09:03:24.844395Z",
     "iopub.status.idle": "2024-03-09T09:03:24.852650Z",
     "shell.execute_reply": "2024-03-09T09:03:24.851577Z"
    },
    "papermill": {
     "duration": 0.022739,
     "end_time": "2024-03-09T09:03:24.854908",
     "exception": false,
     "start_time": "2024-03-09T09:03:24.832169",
     "status": "completed"
    },
    "tags": []
   },
   "outputs": [],
   "source": [
    "# make prediction on real test data\n",
    "pre_val = model.predict(testcp[features])"
   ]
  },
  {
   "cell_type": "code",
   "execution_count": 28,
   "id": "825fde7f",
   "metadata": {
    "execution": {
     "iopub.execute_input": "2024-03-09T09:03:24.878340Z",
     "iopub.status.busy": "2024-03-09T09:03:24.877963Z",
     "iopub.status.idle": "2024-03-09T09:03:24.887265Z",
     "shell.execute_reply": "2024-03-09T09:03:24.886138Z"
    },
    "papermill": {
     "duration": 0.024092,
     "end_time": "2024-03-09T09:03:24.889755",
     "exception": false,
     "start_time": "2024-03-09T09:03:24.865663",
     "status": "completed"
    },
    "tags": []
   },
   "outputs": [],
   "source": [
    "#make a submission dataFrame\n",
    "submission = pd.DataFrame({\n",
    "    \"PassengerId\": testcp[\"PassengerId\"],\n",
    "    \"Survived\": pre_val\n",
    "})\n",
    "\n",
    "# Save the submission dataframe as a csv file\n",
    "submission.to_csv('submission.csv', index=False)\n"
   ]
  }
 ],
 "metadata": {
  "kaggle": {
   "accelerator": "none",
   "dataSources": [
    {
     "databundleVersionId": 26502,
     "sourceId": 3136,
     "sourceType": "competition"
    }
   ],
   "dockerImageVersionId": 30664,
   "isGpuEnabled": false,
   "isInternetEnabled": false,
   "language": "python",
   "sourceType": "notebook"
  },
  "kernelspec": {
   "display_name": "Python 3",
   "language": "python",
   "name": "python3"
  },
  "language_info": {
   "codemirror_mode": {
    "name": "ipython",
    "version": 3
   },
   "file_extension": ".py",
   "mimetype": "text/x-python",
   "name": "python",
   "nbconvert_exporter": "python",
   "pygments_lexer": "ipython3",
   "version": "3.10.13"
  },
  "papermill": {
   "default_parameters": {},
   "duration": 20.541939,
   "end_time": "2024-03-09T09:03:25.521845",
   "environment_variables": {},
   "exception": null,
   "input_path": "__notebook__.ipynb",
   "output_path": "__notebook__.ipynb",
   "parameters": {},
   "start_time": "2024-03-09T09:03:04.979906",
   "version": "2.5.0"
  }
 },
 "nbformat": 4,
 "nbformat_minor": 5
}
